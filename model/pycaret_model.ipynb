{
 "cells": [
  {
   "cell_type": "code",
   "execution_count": null,
   "metadata": {
    "collapsed": true
   },
   "outputs": [],
   "source": [
    "from pycaret.utils import version\n",
    "version()"
   ]
  },
  {
   "cell_type": "code",
   "execution_count": null,
   "outputs": [],
   "source": [
    "import pandas as pd\n",
    "data = pd.read_csv('./data/cs-training.csv')"
   ],
   "metadata": {
    "collapsed": false,
    "pycharm": {
     "name": "#%%\n"
    }
   }
  },
  {
   "cell_type": "code",
   "execution_count": null,
   "outputs": [],
   "source": [
    "# initializing setup\n",
    "from pycaret.classification import *\n",
    "clf2 = setup(data, target='SeriousDlqin2yrs', numeric_features=['NumberOfTime30-59DaysPastDueNotWorse',\n",
    "                                                                'NumberOfTimes90DaysLate',\n",
    "                                                                'NumberOfTime60-89DaysPastDueNotWorse',\n",
    "                                                                'NumberOfDependents'],\n",
    "             fix_imbalance = True)\n",
    "\n",
    "# compare all baseline models and select top 5\n",
    "top5 = compare_models(n_select=5, sort='AUC', )"
   ],
   "metadata": {
    "collapsed": false,
    "pycharm": {
     "name": "#%%\n"
    }
   }
  },
  {
   "cell_type": "code",
   "execution_count": null,
   "outputs": [],
   "source": [
    "# tune top 5 base models\n",
    "tuned_top5 = [tune_model(i) for i in top5]"
   ],
   "metadata": {
    "collapsed": false,
    "pycharm": {
     "name": "#%%\n"
    }
   }
  },
  {
   "cell_type": "code",
   "execution_count": null,
   "outputs": [],
   "source": [
    "tuned_top = tune_model(top5[0])"
   ],
   "metadata": {
    "collapsed": false,
    "pycharm": {
     "name": "#%%\n"
    }
   }
  },
  {
   "cell_type": "code",
   "execution_count": null,
   "outputs": [],
   "source": [
    "bagged_top5 = [ensemble_model(i) for i in tuned_top5]"
   ],
   "metadata": {
    "collapsed": false,
    "pycharm": {
     "name": "#%%\n"
    }
   }
  },
  {
   "cell_type": "code",
   "execution_count": null,
   "outputs": [],
   "source": [
    "blender = blend_models(estimator_list=top5)"
   ],
   "metadata": {
    "collapsed": false,
    "pycharm": {
     "name": "#%%\n"
    }
   }
  },
  {
   "cell_type": "code",
   "execution_count": null,
   "outputs": [],
   "source": [
    "best = automl(optimize='AUC')"
   ],
   "metadata": {
    "collapsed": false,
    "pycharm": {
     "name": "#%%\n"
    }
   }
  },
  {
   "cell_type": "code",
   "execution_count": null,
   "outputs": [],
   "source": [
    "final = finalize_model(best)\n",
    "final"
   ],
   "metadata": {
    "collapsed": false,
    "pycharm": {
     "name": "#%%\n"
    }
   }
  },
  {
   "cell_type": "code",
   "execution_count": null,
   "outputs": [],
   "source": [
    "# ensemble top 5 tuned models\n",
    "bagged_top5 = [ensemble_model(i) for i in tuned_top5]\n",
    "\n",
    "# blend top 5 base models\n",
    "blender = blend_models(estimator_list = top5)\n",
    "\n",
    "# select best model\n",
    "best = automl(optimize = 'AUC')\n",
    "\n",
    "# finalize model\n",
    "final_clf = finalize_model(best)"
   ],
   "metadata": {
    "collapsed": false,
    "pycharm": {
     "name": "#%%\n"
    }
   }
  },
  {
   "cell_type": "code",
   "execution_count": null,
   "outputs": [],
   "source": [
    "# prediction\n",
    "test_data = pd.read_csv('data/cs-test.csv')\n",
    "predictions = predict_model(final, data=test_data)\n",
    "predictions"
   ],
   "metadata": {
    "collapsed": false,
    "pycharm": {
     "name": "#%%\n"
    }
   }
  },
  {
   "cell_type": "code",
   "execution_count": null,
   "outputs": [],
   "source": [
    "import numpy as np\n",
    "submission_scores = predictions['Score']\n",
    "submission_scores\n",
    "ids = np.arange(1, 101504)\n",
    "submission = pd.DataFrame( {'Id': ids, 'Probability': submission_scores})\n",
    "submission.to_csv('submission_pycaret.csv', index=False)"
   ],
   "metadata": {
    "collapsed": false,
    "pycharm": {
     "name": "#%%\n"
    }
   }
  },
  {
   "cell_type": "code",
   "execution_count": null,
   "outputs": [],
   "source": [
    "!mlflow ui"
   ],
   "metadata": {
    "collapsed": false,
    "pycharm": {
     "name": "#%%\n"
    }
   }
  },
  {
   "cell_type": "code",
   "execution_count": null,
   "outputs": [],
   "source": [
    "from sklearn_porter import Porter\n",
    "\n",
    "porter = Porter(final, language='js')\n",
    "output = porter.export(embed_data=True)\n",
    "\n",
    "print(output)\n",
    "\n",
    "# with open('AdaBoostClassifier.js', 'w') as f:\n",
    "#     f.write(output)"
   ],
   "metadata": {
    "collapsed": false,
    "pycharm": {
     "name": "#%%\n"
    }
   }
  }
 ],
 "metadata": {
  "kernelspec": {
   "display_name": "Python 3",
   "language": "python",
   "name": "python3"
  },
  "language_info": {
   "codemirror_mode": {
    "name": "ipython",
    "version": 2
   },
   "file_extension": ".py",
   "mimetype": "text/x-python",
   "name": "python",
   "nbconvert_exporter": "python",
   "pygments_lexer": "ipython2",
   "version": "2.7.6"
  }
 },
 "nbformat": 4,
 "nbformat_minor": 0
}