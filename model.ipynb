{
 "cells": [
  {
   "cell_type": "markdown",
   "metadata": {
    "collapsed": true,
    "pycharm": {
     "name": "#%% md\n"
    }
   },
   "source": [
    "# Give me some credit"
   ]
  },
  {
   "cell_type": "code",
   "source": [
    "import numpy as np\n",
    "import pandas as pd\n",
    "import sklearn\n",
    "from pandas import Series, DataFrame\n",
    "import matplotlib.pyplot as plt\n",
    "import re as re\n",
    "import seaborn as sns\n",
    "\n",
    "from sklearn.linear_model import LogisticRegression\n",
    "from sklearn.model_selection import train_test_split, cross_val_predict\n",
    "from sklearn.metrics import roc_curve, roc_auc_score\n",
    "from sklearn.preprocessing import StandardScaler\n",
    "\n",
    "\n",
    "from imblearn.under_sampling import RandomUnderSampler\n",
    "from collections import Counter\n",
    "from sklearn.model_selection import train_test_split\n",
    "\n",
    "from sklearn.ensemble import RandomForestClassifier, GradientBoostingClassifier\n",
    "\n",
    "\n",
    "%matplotlib inline"
   ],
   "metadata": {
    "collapsed": false,
    "pycharm": {
     "name": "#%%\n"
    }
   },
   "execution_count": null,
   "outputs": []
  },
  {
   "cell_type": "markdown",
   "source": [
    "## Read in data"
   ],
   "metadata": {
    "collapsed": false
   }
  },
  {
   "cell_type": "code",
   "execution_count": null,
   "outputs": [],
   "source": [
    "train_df = pd.read_csv('data/cs-training.csv')\n",
    "test_df = pd.read_csv('data/cs-test.csv')"
   ],
   "metadata": {
    "collapsed": false,
    "pycharm": {
     "name": "#%%\n"
    }
   }
  },
  {
   "cell_type": "markdown",
   "source": [
    "## Check data"
   ],
   "metadata": {
    "collapsed": false,
    "pycharm": {
     "name": "#%% md\n"
    }
   }
  },
  {
   "cell_type": "code",
   "execution_count": null,
   "outputs": [],
   "source": [
    "train_df.head(5)"
   ],
   "metadata": {
    "collapsed": false,
    "pycharm": {
     "name": "#%%\n"
    }
   }
  },
  {
   "cell_type": "code",
   "execution_count": null,
   "outputs": [],
   "source": [
    "train_df.describe()"
   ],
   "metadata": {
    "collapsed": false,
    "pycharm": {
     "name": "#%%\n"
    }
   }
  },
  {
   "cell_type": "code",
   "execution_count": null,
   "outputs": [],
   "source": [
    "train_df.info()"
   ],
   "metadata": {
    "collapsed": false,
    "pycharm": {
     "name": "#%%\n"
    }
   }
  },
  {
   "cell_type": "code",
   "execution_count": null,
   "outputs": [],
   "source": [
    "plt.figure()\n",
    "sns.countplot('SeriousDlqin2yrs',data=train_df)"
   ],
   "metadata": {
    "collapsed": false,
    "pycharm": {
     "name": "#%%\n"
    }
   }
  },
  {
   "cell_type": "markdown",
   "source": [
    "## Wash data"
   ],
   "metadata": {
    "collapsed": false,
    "pycharm": {
     "name": "#%% md\n"
    }
   }
  },
  {
   "cell_type": "code",
   "execution_count": null,
   "outputs": [],
   "source": [
    "train_df.loc[train_df['age'] == 0, 'age'] = train_df['age'].median()\n",
    "train_df['MonthlyIncome'] = train_df['MonthlyIncome'].replace(np.nan,train_df['MonthlyIncome'].mean())\n",
    "train_df['NumberOfDependents'].fillna(train_df['NumberOfDependents'].median(), inplace=True)\n",
    "train_df.info()"
   ],
   "metadata": {
    "collapsed": false,
    "pycharm": {
     "name": "#%%\n"
    }
   }
  },
  {
   "cell_type": "code",
   "execution_count": null,
   "outputs": [],
   "source": [
    "test_df.loc[train_df['age'] == 0, 'age'] = test_df['age'].median()\n",
    "test_df['MonthlyIncome'] = test_df['MonthlyIncome'].replace(np.nan,test_df['MonthlyIncome'].mean())\n",
    "test_df['NumberOfDependents'].fillna(test_df['NumberOfDependents'].median(), inplace=True)\n",
    "test_df.info()"
   ],
   "metadata": {
    "collapsed": false,
    "pycharm": {
     "name": "#%%\n"
    }
   }
  },
  {
   "cell_type": "code",
   "execution_count": null,
   "outputs": [],
   "source": [
    "# check correlation\n",
    "corr = train_df.corr()\n",
    "plt.figure(figsize=(19, 15))\n",
    "sns.heatmap(corr, annot=True, fmt='.2g')"
   ],
   "metadata": {
    "collapsed": false,
    "pycharm": {
     "name": "#%%\n"
    }
   }
  },
  {
   "cell_type": "markdown",
   "source": [
    "## Data analysis"
   ],
   "metadata": {
    "collapsed": false,
    "pycharm": {
     "name": "#%% md\n"
    }
   }
  },
  {
   "cell_type": "code",
   "execution_count": null,
   "outputs": [],
   "source": [
    "# rename\n",
    "X = train_df.drop(['SeriousDlqin2yrs'],axis=1)\n",
    "y = train_df['SeriousDlqin2yrs']\n",
    "W = test_df.drop(['SeriousDlqin2yrs'],axis=1)\n",
    "z = test_df['SeriousDlqin2yrs']"
   ],
   "metadata": {
    "collapsed": false,
    "pycharm": {
     "name": "#%%\n"
    }
   }
  },
  {
   "cell_type": "code",
   "execution_count": null,
   "outputs": [],
   "source": [
    "def plot_roc_curve(fpr, tpr, label=None):\n",
    "    plt.figure(figsize=(12,10))\n",
    "    plt.plot(fpr, tpr, linewidth=2, label=label)\n",
    "    plt.plot([0,1],[0,1], \"k--\") # 画直线做参考\n",
    "    plt.axis([0,1,0,1])\n",
    "    plt.xlabel(\"False Positive Rate\")\n",
    "    plt.ylabel(\"True Positive rate\")"
   ],
   "metadata": {
    "collapsed": false,
    "pycharm": {
     "name": "#%%\n"
    }
   }
  },
  {
   "cell_type": "code",
   "execution_count": null,
   "outputs": [],
   "source": [
    "def plot_feature_importances(model):\n",
    "    plt.figure(figsize=(10,8))\n",
    "    n_features = X.shape[1]\n",
    "    plt.barh(range(n_features), model.feature_importances_, align='center')\n",
    "    plt.yticks(np.arange(n_features), X.columns)\n",
    "    plt.xlabel('Feature importance')\n",
    "    plt.ylabel('Feature')\n",
    "    plt.ylim(-1, n_features)"
   ],
   "metadata": {
    "collapsed": false,
    "pycharm": {
     "name": "#%%\n"
    }
   }
  },
  {
   "cell_type": "markdown",
   "source": [
    "### Linear Regression"
   ],
   "metadata": {
    "collapsed": false,
    "pycharm": {
     "name": "#%% md\n"
    }
   }
  },
  {
   "cell_type": "code",
   "execution_count": null,
   "outputs": [],
   "source": [
    "# Linear Regression\n",
    "X_train, X_test, y_train, y_test = train_test_split(X,y,random_state=111)\n",
    "\n",
    "lr = LogisticRegression(random_state=111, solver='saga', penalty='l1', class_weight='balanced', C=1.0, max_iter=500)\n",
    "\n",
    "scaler = StandardScaler().fit(X_train)\n",
    "\n",
    "X_train_scaled = scaler.transform(X_train)\n",
    "X_test_scaled = scaler.transform(X_test)\n",
    "\n",
    "lr.fit(X_train_scaled, y_train)\n",
    "\n",
    "lr_scores_proba = lr.predict_proba(X_train_scaled)\n",
    "\n",
    "lr_scores = lr_scores_proba[:,1]\n",
    "\n",
    "fpr_lr, tpr_lr, thresh_lr = roc_curve(y_train, lr_scores)\n",
    "\n",
    "plot_roc_curve(fpr_lr, tpr_lr)\n",
    "print ('AUC Score : ', (roc_auc_score(y_train, lr_scores)))"
   ],
   "metadata": {
    "collapsed": false,
    "pycharm": {
     "name": "#%%\n"
    }
   }
  },
  {
   "cell_type": "markdown",
   "source": [
    "### Random Forest Classifier"
   ],
   "metadata": {
    "collapsed": false,
    "pycharm": {
     "name": "#%% md\n"
    }
   }
  },
  {
   "cell_type": "code",
   "execution_count": null,
   "outputs": [],
   "source": [
    "print ('Original dataset shape :', Counter(y))\n",
    "rus = RandomUnderSampler(random_state=111)\n",
    "X_resampled, y_resampled = rus.fit_sample(X, y)\n",
    "print ('Resampled dataset shape:', Counter(y_resampled))\n",
    "X_train_rus, X_test_rus, y_train_rus, y_test_rus = train_test_split(X_resampled, y_resampled, random_state=111)\n",
    "\n",
    "\n",
    "forest = RandomForestClassifier(n_estimators=300, random_state=111, max_depth=5, class_weight='balanced')\n",
    "forest.fit(X_train_rus, y_train_rus)\n",
    "y_scores_prob = forest.predict_proba(X_train_rus)\n",
    "y_scores = y_scores_prob[:, 1]\n",
    "fpr, tpr, thresh = roc_curve(y_train_rus, y_scores)\n",
    "plot_roc_curve(fpr, tpr)\n",
    "print ('AUC score:', roc_auc_score(y_train_rus, y_scores))"
   ],
   "metadata": {
    "collapsed": false,
    "pycharm": {
     "name": "#%%\n"
    }
   }
  },
  {
   "cell_type": "code",
   "execution_count": null,
   "outputs": [],
   "source": [
    "y_test_proba = forest.predict_proba(X_test_rus)\n",
    "y_scores_test = y_test_proba[:, 1]\n",
    "fpr_test, tpr_test, thresh_test = roc_curve(y_test_rus, y_scores_test)\n",
    "plot_roc_curve(fpr_test, tpr_test)\n",
    "print ('AUC Score:', roc_auc_score(y_test_rus, y_scores_test))"
   ],
   "metadata": {
    "collapsed": false,
    "pycharm": {
     "name": "#%%\n"
    }
   }
  },
  {
   "cell_type": "code",
   "execution_count": null,
   "outputs": [],
   "source": [
    "plot_feature_importances(forest)"
   ],
   "metadata": {
    "collapsed": false,
    "pycharm": {
     "name": "#%%\n"
    }
   }
  },
  {
   "cell_type": "markdown",
   "source": [
    "### GBC"
   ],
   "metadata": {
    "collapsed": false,
    "pycharm": {
     "name": "#%% md\n"
    }
   }
  },
  {
   "cell_type": "code",
   "execution_count": null,
   "outputs": [],
   "source": [
    "gbc_clf = GradientBoostingClassifier(n_estimators=300, learning_rate=0.05, max_depth=8, random_state=112)\n",
    "gbc_clf.fit(X_train, y_train)\n",
    "gbc_clf_proba = gbc_clf.predict_proba(X_train)\n",
    "gbc_clf_scores = gbc_clf_proba[:, 1]\n",
    "fpr_gbc, tpr_gbc, thres_gbc = roc_curve(y_train, gbc_clf_scores)\n",
    "plot_roc_curve(fpr_gbc, tpr_gbc)\n",
    "print ('AUC Score:', roc_auc_score(y_train, gbc_clf_scores))"
   ],
   "metadata": {
    "collapsed": false,
    "pycharm": {
     "name": "#%%\n"
    }
   }
  },
  {
   "cell_type": "code",
   "execution_count": null,
   "outputs": [],
   "source": [
    "gbc_val_proba = gbc_clf.predict_proba(X_test)\n",
    "gbc_val_scores = gbc_val_proba[:, 1]\n",
    "print ('AUC score:', roc_auc_score(y_test, gbc_val_scores))"
   ],
   "metadata": {
    "collapsed": false,
    "pycharm": {
     "name": "#%%\n"
    }
   }
  },
  {
   "cell_type": "code",
   "execution_count": null,
   "outputs": [],
   "source": [
    "gbc_clf_submission = GradientBoostingClassifier(n_estimators=200, learning_rate=0.05, max_depth=4, random_state=42)\n",
    "gbc_clf_submission.fit(X_train,y_train)\n",
    "gbc_clf_proba = gbc_clf_submission.predict_proba(X_train)\n",
    "gbc_clf_scores = gbc_clf_proba[:,1]\n",
    "gbc_val_proba = gbc_clf_submission.predict_proba(X_test)\n",
    "gbc_val_scores = gbc_val_proba[:,1]\n",
    "fpr_gbc, tpr_gbc, thresh_gbc = roc_curve(y_train, gbc_clf_scores)\n",
    "print ('AUC Score :', roc_auc_score(y_train, gbc_clf_scores))\n",
    "print ('AUC Score :', roc_auc_score(y_test, gbc_val_scores))\n",
    "plot_feature_importances(gbc_clf)"
   ],
   "metadata": {
    "collapsed": false,
    "pycharm": {
     "name": "#%%\n"
    }
   }
  },
  {
   "cell_type": "markdown",
   "source": [
    "## Data Output"
   ],
   "metadata": {
    "collapsed": false,
    "pycharm": {
     "name": "#%% md\n"
    }
   }
  },
  {
   "cell_type": "code",
   "execution_count": null,
   "outputs": [],
   "source": [
    "temp = W.replace([np.inf, -np.inf], np.nan, inplace=False)\n",
    "temp.isna().sum()\n",
    "scaler.transform(W)"
   ],
   "metadata": {
    "collapsed": false,
    "pycharm": {
     "name": "#%%\n"
    }
   }
  },
  {
   "cell_type": "code",
   "execution_count": null,
   "outputs": [],
   "source": [
    "submission_proba = gbc_clf_submission.predict_proba(W)\n",
    "submission_scores = submission_proba[:, 1]\n",
    "ids = np.arange(1, 101504)\n",
    "submission = pd.DataFrame( {'Id': ids, 'Probability': submission_scores})\n",
    "submission.to_csv('submission.csv', index=False)"
   ],
   "metadata": {
    "collapsed": false,
    "pycharm": {
     "name": "#%%\n"
    }
   }
  },
  {
   "cell_type": "code",
   "execution_count": null,
   "outputs": [],
   "source": [
    "from sklearn.tree import DecisionTreeClassifier\n",
    "base_estimator = DecisionTreeClassifier(max_depth=4, random_state=0)\n",
    "gbc_clf = sklearn.ensemble.AdaBoostClassifier(base_estimator=base_estimator, n_estimators=32,\n",
    "                         random_state=0, learning_rate=0.1)\n",
    "gbc_clf.fit(X_train, y_train)\n",
    "gbc_clf_scores = gbc_clf.predict_proba(X_train)[:, 1]\n",
    "fpr_gbc, tpr_gbc, thres_gbc = roc_curve(y_train, gbc_clf_scores)\n",
    "plot_roc_curve(fpr_gbc, tpr_gbc)\n",
    "print ('AUC Score:', roc_auc_score(y_train, gbc_clf_scores))"
   ],
   "metadata": {
    "collapsed": false,
    "pycharm": {
     "name": "#%%\n"
    }
   }
  },
  {
   "cell_type": "code",
   "execution_count": null,
   "outputs": [],
   "source": [
    "gbc_val_proba = gbc_clf.predict_proba(X_test)\n",
    "gbc_val_scores = gbc_val_proba[:, 1]\n",
    "print ('AUC score:', roc_auc_score(y_test, gbc_val_scores))"
   ],
   "metadata": {
    "collapsed": false,
    "pycharm": {
     "name": "#%%\n"
    }
   }
  },
  {
   "cell_type": "code",
   "execution_count": null,
   "outputs": [],
   "source": [
    "submission_proba = gbc_clf.predict_proba(W)\n",
    "submission_scores = submission_proba[:, 1]\n",
    "ids = np.arange(1, 101504)\n",
    "submission = pd.DataFrame( {'Id': ids, 'Probability': submission_scores})\n",
    "submission.to_csv('submission.csv', index=False)"
   ],
   "metadata": {
    "collapsed": false,
    "pycharm": {
     "name": "#%%\n"
    }
   }
  },
  {
   "cell_type": "code",
   "execution_count": null,
   "outputs": [],
   "source": [
    "from sklearn_porter import Porter\n",
    "\n",
    "porter = Porter(gbc_clf, language='js')\n",
    "output = porter.export(embed_data=True)\n",
    "\n",
    "print(output)\n",
    "\n",
    "with open('AdaBoostClassifier.js', 'w') as f:\n",
    "    f.write(output)"
   ],
   "metadata": {
    "collapsed": false,
    "pycharm": {
     "name": "#%%\n"
    }
   }
  }
 ],
 "metadata": {
  "kernelspec": {
   "display_name": "Python 3",
   "language": "python",
   "name": "python3"
  },
  "language_info": {
   "codemirror_mode": {
    "name": "ipython",
    "version": 2
   },
   "file_extension": ".py",
   "mimetype": "text/x-python",
   "name": "python",
   "nbconvert_exporter": "python",
   "pygments_lexer": "ipython2",
   "version": "2.7.6"
  }
 },
 "nbformat": 4,
 "nbformat_minor": 0
}